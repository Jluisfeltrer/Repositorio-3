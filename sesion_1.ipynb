{
 "cells": [
  {
   "cell_type": "markdown",
   "id": "4eb1518c",
   "metadata": {},
   "source": [
    "## Primera clase"
   ]
  },
  {
   "cell_type": "markdown",
   "id": "1ab9fe6d",
   "metadata": {},
   "source": [
    "### Tipos de datos\n",
    "* String -> Cadena de caracteres (Siempre entre '').\n",
    "* integer (int) -> Numeros enteros.\n",
    "* floating points -> Numeros decimales.\n",
    "* Variable box\n",
    "* Operadores matematicos (orden algebraico)\n",
    "* Operadores logicos (and, or)\n",
    "* Valores Booleanos (True, False)\n"
   ]
  },
  {
   "cell_type": "markdown",
   "id": "75fc3962",
   "metadata": {},
   "source": [
    "### Estructuras de control:\n",
    "* condicionales\n",
    "    - if\n",
    "    - elif\n",
    "    - else\n",
    "* Bucles\n",
    "    - while\n",
    "    - for\n",
    "    - for i in range   "
   ]
  },
  {
   "cell_type": "code",
   "execution_count": 19,
   "id": "2a561356",
   "metadata": {},
   "outputs": [],
   "source": [
    "jorge = 4"
   ]
  },
  {
   "cell_type": "code",
   "execution_count": 20,
   "id": "0925a0ba",
   "metadata": {},
   "outputs": [
    {
     "data": {
      "text/plain": [
       "4"
      ]
     },
     "execution_count": 20,
     "metadata": {},
     "output_type": "execute_result"
    }
   ],
   "source": [
    "jorge"
   ]
  },
  {
   "cell_type": "code",
   "execution_count": 21,
   "id": "e1bf703b",
   "metadata": {},
   "outputs": [
    {
     "data": {
      "text/plain": [
       "7"
      ]
     },
     "execution_count": 21,
     "metadata": {},
     "output_type": "execute_result"
    }
   ],
   "source": [
    "jorge + 3"
   ]
  },
  {
   "cell_type": "code",
   "execution_count": 32,
   "id": "a9341916",
   "metadata": {},
   "outputs": [
    {
     "name": "stdout",
     "output_type": "stream",
     "text": [
      "Hello, stranger!\n"
     ]
    }
   ],
   "source": [
    "name= input('')\n",
    "if name == 'Jose':\n",
    "    print('Hello, Jose!')\n",
    "else:\n",
    "    print('Hello, stranger!')\n",
    "# This script checks if the variable 'name' is equal to 'Jose'."
   ]
  },
  {
   "cell_type": "code",
   "execution_count": 34,
   "id": "91b3ff3f",
   "metadata": {},
   "outputs": [
    {
     "name": "stdout",
     "output_type": "stream",
     "text": [
      "Your max heart rate is: 22.0\n"
     ]
    }
   ],
   "source": [
    "variable = 5\n",
    "edad = input('Enter your age: ')\n",
    "maxhb = variable + int(edad) * 0.5\n",
    "if maxhb > 10:\n",
    "    print('Your max heart rate is:', maxhb)\n",
    "else:\n",
    "    print('tour heart rate is too low')"
   ]
  },
  {
   "cell_type": "code",
   "execution_count": 29,
   "id": "9e91c5bf",
   "metadata": {},
   "outputs": [
    {
     "name": "stdout",
     "output_type": "stream",
     "text": [
      "Hello, jorge!\n",
      "Incorrect password\n"
     ]
    }
   ],
   "source": [
    "name = input('Please, enter your name: ')\n",
    "if name == 'Jose':\n",
    "    print('Hello, Jose!')\n",
    "    password = input('Now, please enter your password: ')\n",
    "    if password == '102030':\n",
    "        print('Welcome, Jose')\n",
    "    else:\n",
    "        print('Incorrect password')\n",
    "elif name == 'Jorge':\n",
    "    print('Hello, jorge!')\n",
    "    password = input('Now, please enter your password: ')\n",
    "    if password == '112030':\n",
    "        print('Welcome, Jorge')\n",
    "    else:\n",
    "        print('Incorrect password')\n",
    "else:\n",
    "    print('Hello, stranger!')\n"
   ]
  },
  {
   "cell_type": "code",
   "execution_count": 31,
   "id": "ec907e54",
   "metadata": {},
   "outputs": [
    {
     "name": "stdout",
     "output_type": "stream",
     "text": [
      "you are old enough\n"
     ]
    }
   ],
   "source": [
    "# Bucle while\n",
    "age = (int(input('Please enter your age: ')))\n",
    "while age <18:\n",
    "    print('you are too young')\n",
    "else:\n",
    "    print('you are old enough')"
   ]
  },
  {
   "cell_type": "code",
   "execution_count": 17,
   "id": "9a92c506",
   "metadata": {},
   "outputs": [
    {
     "name": "stdout",
     "output_type": "stream",
     "text": [
      "Hello, Jose\n",
      "Hello, Jorge\n",
      "Hello, Francisco\n",
      "Hello, Valeria\n",
      "Hello, Estefany\n"
     ]
    }
   ],
   "source": [
    "# Bucle for\n",
    "name_list = ['Jose', 'Jorge', 'Francisco', 'Valeria', 'Estefany']\n",
    "for name in name_list:\n",
    "    print('Hello,', name)"
   ]
  },
  {
   "cell_type": "code",
   "execution_count": 18,
   "id": "27be7a2b",
   "metadata": {},
   "outputs": [
    {
     "name": "stdout",
     "output_type": "stream",
     "text": [
      "Hello, Jose\n",
      "Hello, Jorge\n",
      "Hello, Francisco\n"
     ]
    }
   ],
   "source": [
    "# Bucle for\n",
    "name_list = ['Jose', 'Jorge', 'Francisco', 'Valeria', 'Estefany']\n",
    "for name in name_list:\n",
    "    print('Hello,', name)\n",
    "    if name == 'Francisco':\n",
    "        break"
   ]
  },
  {
   "cell_type": "code",
   "execution_count": 36,
   "id": "0af80e15",
   "metadata": {},
   "outputs": [
    {
     "name": "stdout",
     "output_type": "stream",
     "text": [
      "P\n",
      "H\n",
      "Y\n",
      "T\n",
      "O\n",
      "N\n"
     ]
    }
   ],
   "source": [
    "for i in 'PHYTON':\n",
    "    print(i)"
   ]
  },
  {
   "cell_type": "code",
   "execution_count": 37,
   "id": "91869f6d",
   "metadata": {},
   "outputs": [
    {
     "name": "stdout",
     "output_type": "stream",
     "text": [
      "Hello, Jose\n",
      "Hello, Jorge\n",
      "Hello, Francisco\n",
      "Hello, Valeria\n",
      "Hello, Estefany\n",
      "Hello, Francisco\n"
     ]
    }
   ],
   "source": [
    "for name in name_list:\n",
    "    print('Hello,', name)\n",
    "    if name == 'Francisco':\n",
    "        continue\n",
    "print('Hello, Francisco')"
   ]
  },
  {
   "cell_type": "code",
   "execution_count": 39,
   "id": "141762b2",
   "metadata": {},
   "outputs": [],
   "source": [
    "for name in name_list:\n",
    "    del name_list[0]"
   ]
  },
  {
   "cell_type": "code",
   "execution_count": 40,
   "id": "cd652d23",
   "metadata": {},
   "outputs": [
    {
     "data": {
      "text/plain": [
       "['Valeria', 'Estefany']"
      ]
     },
     "execution_count": 40,
     "metadata": {},
     "output_type": "execute_result"
    }
   ],
   "source": [
    "name_list"
   ]
  },
  {
   "cell_type": "code",
   "execution_count": 41,
   "id": "79b3aad5",
   "metadata": {},
   "outputs": [
    {
     "name": "stdout",
     "output_type": "stream",
     "text": [
      "Valeria\n",
      "Estefany\n"
     ]
    }
   ],
   "source": [
    "for name in name_list:\n",
    "    print(name)\n",
    "    "
   ]
  },
  {
   "cell_type": "code",
   "execution_count": null,
   "id": "1be01a94",
   "metadata": {},
   "outputs": [],
   "source": []
  }
 ],
 "metadata": {
  "kernelspec": {
   "display_name": "Python 3",
   "language": "python",
   "name": "python3"
  },
  "language_info": {
   "codemirror_mode": {
    "name": "ipython",
    "version": 3
   },
   "file_extension": ".py",
   "mimetype": "text/x-python",
   "name": "python",
   "nbconvert_exporter": "python",
   "pygments_lexer": "ipython3",
   "version": "3.13.3"
  }
 },
 "nbformat": 4,
 "nbformat_minor": 5
}
